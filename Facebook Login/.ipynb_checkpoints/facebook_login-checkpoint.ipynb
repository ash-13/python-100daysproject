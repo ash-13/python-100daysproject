{
 "cells": [
  {
   "cell_type": "code",
   "execution_count": null,
   "metadata": {},
   "outputs": [],
   "source": [
    "!pip install webdriver_manager"
   ]
  },
  {
   "cell_type": "code",
   "execution_count": null,
   "metadata": {},
   "outputs": [],
   "source": [
    "from selenium import webdriver \n",
    "from time import sleep \n",
    "from webdriver_manager.chrome import ChromeDriverManager \n",
    "from selenium.webdriver.chrome.options import Options "
   ]
  },
  {
   "cell_type": "code",
   "execution_count": null,
   "metadata": {},
   "outputs": [],
   "source": [
    "usr=input('Enter Email Id:')\n",
    "pwd=input('Enter Password:')\n",
    "\n",
    "driver = webdriver.Chrome(ChromeDriverManager().install())\n",
    "driver.get('https://www.facebook.com/')\n",
    "print('Opened FB')\n",
    "sleep(1)\n",
    "\n",
    "username_box = driver.find_element_by_id('email')\n",
    "username_box.send_keys(usr)\n",
    "print(\"Email if entered\")\n",
    "sleep(1)\n",
    "\n",
    "unername_box = driver.find_element_by_id('pass')\n",
    "password_box.send_keys(pwd)\n",
    "print('Password Entered')\n",
    "\n",
    "login_box = driver.find_element_by_id('loginbutton')\n",
    "login_blox.click()\n",
    "\n",
    "print(\"DONE\")\n",
    "input('Print any key to quit')\n",
    "driver.quit()\n",
    "print('Finished')"
   ]
  },
  {
   "cell_type": "code",
   "execution_count": null,
   "metadata": {},
   "outputs": [],
   "source": []
  },
  {
   "cell_type": "code",
   "execution_count": null,
   "metadata": {},
   "outputs": [],
   "source": []
  }
 ],
 "metadata": {
  "kernelspec": {
   "display_name": "Python 3",
   "language": "python",
   "name": "python3"
  },
  "language_info": {
   "codemirror_mode": {
    "name": "ipython",
    "version": 3
   },
   "file_extension": ".py",
   "mimetype": "text/x-python",
   "name": "python",
   "nbconvert_exporter": "python",
   "pygments_lexer": "ipython3",
   "version": "3.8.5"
  }
 },
 "nbformat": 4,
 "nbformat_minor": 4
}
